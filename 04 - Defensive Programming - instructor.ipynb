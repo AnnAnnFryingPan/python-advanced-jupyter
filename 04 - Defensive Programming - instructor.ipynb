{
 "cells": [
  {
   "cell_type": "markdown",
   "metadata": {},
   "source": [
    "# Defensive Programming"
   ]
  },
  {
   "cell_type": "markdown",
   "metadata": {},
   "source": [
    " "
   ]
  },
  {
   "cell_type": "markdown",
   "metadata": {},
   "source": [
    "In this episode we are going to learn some python structure which will help us to manage properly the errors that can be encounter when executing a software.\n",
    "\n",
    "In science most of the developers are writing code for themselves and do not feel the need to use these tools but nowadays scientists have to share more and more their tools and funding agencies are starting to ask for codes related to publish code. Codes are not expected to crash and we are going to learn how to avoid this non desirable behaviour. "
   ]
  },
  {
   "cell_type": "markdown",
   "metadata": {},
   "source": [
    "<section class=\"objectives panel panel-warning\">\n",
    "<div class=\"panel-heading\">\n",
    "<h2><span class=\"fa fa-certificate\"></span> Question</h2>\n",
    "</div>\n",
    "<br/>\n",
    "Please look at the following code. Can you point a fundamental problem with this test?\n",
    "<br/>\n",
    "</section>"
   ]
  },
  {
   "cell_type": "code",
   "execution_count": 1,
   "metadata": {},
   "outputs": [
    {
     "name": "stdout",
     "output_type": "stream",
     "text": [
      "Value:  1 is a digit.\n"
     ]
    }
   ],
   "source": [
    "val = 1\n",
    "\n",
    "if val>0 and val<10:\n",
    "    print('Value: ', val, 'is a digit.')\n",
    "elif val==0:\n",
    "    print('Value ', val, 'is nul')\n",
    "else:\n",
    "    print('Value: ', val, 'is a number.')"
   ]
  },
  {
   "cell_type": "markdown",
   "metadata": {},
   "source": [
    "## Error and Exception"
   ]
  },
  {
   "cell_type": "markdown",
   "metadata": {},
   "source": [
    "We can try the previous code but instead of a number we are affecting at the variable *val* a string:"
   ]
  },
  {
   "cell_type": "code",
   "execution_count": 2,
   "metadata": {
    "scrolled": true
   },
   "outputs": [
    {
     "ename": "TypeError",
     "evalue": "'>' not supported between instances of 'str' and 'int'",
     "output_type": "error",
     "traceback": [
      "\u001b[0;31m---------------------------------------------------------------------------\u001b[0m",
      "\u001b[0;31mTypeError\u001b[0m                                 Traceback (most recent call last)",
      "\u001b[0;32m<ipython-input-2-99c0e25bf5e9>\u001b[0m in \u001b[0;36m<module>\u001b[0;34m()\u001b[0m\n\u001b[1;32m      1\u001b[0m \u001b[0mval\u001b[0m \u001b[0;34m=\u001b[0m \u001b[0;34m'a'\u001b[0m\u001b[0;34m\u001b[0m\u001b[0m\n\u001b[1;32m      2\u001b[0m \u001b[0;34m\u001b[0m\u001b[0m\n\u001b[0;32m----> 3\u001b[0;31m \u001b[0;32mif\u001b[0m \u001b[0mval\u001b[0m\u001b[0;34m>\u001b[0m\u001b[0;36m0\u001b[0m \u001b[0;32mand\u001b[0m \u001b[0mval\u001b[0m\u001b[0;34m<\u001b[0m\u001b[0;36m10\u001b[0m\u001b[0;34m:\u001b[0m\u001b[0;34m\u001b[0m\u001b[0m\n\u001b[0m\u001b[1;32m      4\u001b[0m     \u001b[0mprint\u001b[0m\u001b[0;34m(\u001b[0m\u001b[0;34m'Value: '\u001b[0m\u001b[0;34m,\u001b[0m \u001b[0mval\u001b[0m\u001b[0;34m,\u001b[0m \u001b[0;34m'is a digit.'\u001b[0m\u001b[0;34m)\u001b[0m\u001b[0;34m\u001b[0m\u001b[0m\n\u001b[1;32m      5\u001b[0m \u001b[0;32melif\u001b[0m \u001b[0mval\u001b[0m\u001b[0;34m==\u001b[0m\u001b[0;36m0\u001b[0m\u001b[0;34m:\u001b[0m\u001b[0;34m\u001b[0m\u001b[0m\n",
      "\u001b[0;31mTypeError\u001b[0m: '>' not supported between instances of 'str' and 'int'"
     ]
    }
   ],
   "source": [
    "val = 'a'\n",
    "\n",
    "if val>0 and val<10:\n",
    "    print('Value: ', val, 'is a digit.')\n",
    "elif val==0:\n",
    "    print('Value ', val, 'is nul')\n",
    "else:\n",
    "    print('Value: ', val, 'is a number.')"
   ]
  },
  {
   "cell_type": "markdown",
   "metadata": {},
   "source": [
    "We are getting an error which is normal because we are doing a numerical test on a string. There are language like *C* where that comparison will not create an error which can create bugs not very easily to detect but *Python* does not.\n",
    "\n",
    "How can we deal with this situation? \n",
    "\n",
    "Python is providing tools to deal properly with error and exception and this is the subject of that lesson."
   ]
  },
  {
   "cell_type": "markdown",
   "metadata": {},
   "source": [
    "we are getting an error because you cannot compare a *string* and a *number*. \n",
    "\n",
    "<div style='background:#B1E0A8; padding:10px 10px 10px 10px;'>\n",
    "<H2> Challenges </H2>\n",
    "\n",
    " <ol>\n",
    " <li> \n",
    "Write a small piece of code to avoid this potential crash in our software.\n",
    "<br>\n",
    "</div>"
   ]
  },
  {
   "cell_type": "markdown",
   "metadata": {},
   "source": [
    "### first solution\n",
    "\n",
    "We can use a simple *if* statement to test that *val* can be use in a numerical comparison"
   ]
  },
  {
   "cell_type": "code",
   "execution_count": 3,
   "metadata": {
    "scrolled": true
   },
   "outputs": [
    {
     "name": "stdout",
     "output_type": "stream",
     "text": [
      "Val is not a number\n"
     ]
    }
   ],
   "source": [
    "val = 'a'\n",
    "\n",
    "if type(val) is int or type(val) is float:\n",
    "    if val>0 and val<10:\n",
    "        print('Value: ', val, 'is a digit.')\n",
    "    elif val==0:\n",
    "        print('Value ', val, 'is nul')\n",
    "    else:\n",
    "        print('Value: ', val, 'is a number.')\n",
    "else:\n",
    "    print('Val is not a number')"
   ]
  },
  {
   "cell_type": "markdown",
   "metadata": {},
   "source": [
    "It is possible to manage this specific error using the *if* *else* structure but it is tedious since the developer will have to implement a lot of similar test to cover a large range of possible error. \n",
    "\n",
    "\n",
    "Thankfully *Python* provide a structure which will allowed the developer to manage properly any possible errors.\n",
    "\n",
    "The try-except structure:\n",
    "\n",
    "```python\n",
    "try:\n",
    "    ...\n",
    "except <an error>:\n",
    "    ...\n",
    "finally:\n",
    "    ...\n",
    "```\n",
    "\n",
    "We can rewrite the previous test with a proper handling of the error:\n"
   ]
  },
  {
   "cell_type": "code",
   "execution_count": 4,
   "metadata": {},
   "outputs": [
    {
     "name": "stdout",
     "output_type": "stream",
     "text": [
      "Val is not a number\n",
      "But our code does not crash anymore\n",
      "The run-time error is: '>' not supported between instances of 'str' and 'int'\n"
     ]
    }
   ],
   "source": [
    "val = 'a'\n",
    "\n",
    "try:\n",
    "    if val>0 and val<10:\n",
    "        print('Value: ', val, 'is a digit.')\n",
    "    elif val==0:\n",
    "        print('Value ', val, 'is nul')\n",
    "    else:\n",
    "        print('Value: ', val, 'is a number.')\n",
    "except TypeError as err:\n",
    "    print('Val is not a number')\n",
    "    print('But our code does not crash anymore')\n",
    "    print('The run-time error is:', err)"
   ]
  },
  {
   "cell_type": "markdown",
   "metadata": {},
   "source": [
    "You do not have to know exactly the type of the error to handle it properly"
   ]
  },
  {
   "cell_type": "code",
   "execution_count": 5,
   "metadata": {},
   "outputs": [
    {
     "name": "stdout",
     "output_type": "stream",
     "text": [
      "Val is not a number\n",
      "Enter a new number\n"
     ]
    }
   ],
   "source": [
    "import sys\n",
    "\n",
    "val = 'a'\n",
    "\n",
    "try:\n",
    "    if val>0 and val<10:\n",
    "        print('Value: ', val, 'is a digit.')\n",
    "    elif val==0:\n",
    "        print('Value ', val, 'is nul')\n",
    "    else:\n",
    "        print('Value: ', val, 'is a number.')\n",
    "except:\n",
    "    print('Val is not a number')\n",
    "    print('Enter a new number')"
   ]
  },
  {
   "cell_type": "markdown",
   "metadata": {},
   "source": [
    "## Assert"
   ]
  },
  {
   "cell_type": "markdown",
   "metadata": {},
   "source": [
    "But sometimes, the developer can prefer to have a crash with a meaningful error. It is possible to do the test before using the variable and testing it.\n",
    "\n",
    "For example That can be extremely useful in the case of long numerical calculation which will use a certain type of variable in middle of it."
   ]
  },
  {
   "cell_type": "code",
   "execution_count": 6,
   "metadata": {},
   "outputs": [
    {
     "ename": "AssertionError",
     "evalue": "Variable has to be a numerical object",
     "output_type": "error",
     "traceback": [
      "\u001b[0;31m---------------------------------------------------------------------------\u001b[0m",
      "\u001b[0;31mAssertionError\u001b[0m                            Traceback (most recent call last)",
      "\u001b[0;32m<ipython-input-6-5d5953c09540>\u001b[0m in \u001b[0;36m<module>\u001b[0;34m()\u001b[0m\n\u001b[1;32m      1\u001b[0m \u001b[0mval\u001b[0m \u001b[0;34m=\u001b[0m \u001b[0;34m'a'\u001b[0m\u001b[0;34m\u001b[0m\u001b[0m\n\u001b[1;32m      2\u001b[0m \u001b[0;34m\u001b[0m\u001b[0m\n\u001b[0;32m----> 3\u001b[0;31m \u001b[0;32massert\u001b[0m \u001b[0mtype\u001b[0m\u001b[0;34m(\u001b[0m\u001b[0mval\u001b[0m\u001b[0;34m)\u001b[0m \u001b[0;32mis\u001b[0m \u001b[0mfloat\u001b[0m \u001b[0;32mor\u001b[0m \u001b[0mtype\u001b[0m\u001b[0;34m(\u001b[0m\u001b[0mval\u001b[0m\u001b[0;34m)\u001b[0m \u001b[0;32mis\u001b[0m \u001b[0mint\u001b[0m\u001b[0;34m,\u001b[0m \u001b[0;34m\"Variable has to be a numerical object\"\u001b[0m \u001b[0;31m# or val is int\u001b[0m\u001b[0;34m\u001b[0m\u001b[0m\n\u001b[0m\u001b[1;32m      4\u001b[0m \u001b[0;34m\u001b[0m\u001b[0m\n\u001b[1;32m      5\u001b[0m \u001b[0;32mif\u001b[0m \u001b[0mval\u001b[0m\u001b[0;34m>\u001b[0m\u001b[0;36m0\u001b[0m \u001b[0;32mand\u001b[0m \u001b[0mval\u001b[0m\u001b[0;34m<\u001b[0m\u001b[0;36m10\u001b[0m\u001b[0;34m:\u001b[0m\u001b[0;34m\u001b[0m\u001b[0m\n",
      "\u001b[0;31mAssertionError\u001b[0m: Variable has to be a numerical object"
     ]
    }
   ],
   "source": [
    "val = 'a'\n",
    "\n",
    "assert type(val) is float or type(val) is int, \"Variable has to be a numerical object\" # or val is int\n",
    "\n",
    "if val>0 and val<10:\n",
    "    print('Value: ', val, 'is a digit.')\n",
    "elif val==0:\n",
    "    print('Value ', val, 'is nul')\n",
    "else:\n",
    "    print('Value: ', val, 'is a number.')\n",
    "    "
   ]
  },
  {
   "cell_type": "markdown",
   "metadata": {},
   "source": [
    "<div style='background:#B1E0A8; padding:10px 10px 10px 10px;'>\n",
    "<H2> Challenges </H2>\n",
    "\n",
    " <ol>\n",
    " <li>\n",
    " Write a try-except statement which will deal with a division by zero.\n",
    " </li>\n",
    " <br>\n",
    " hint: Python does have an error class for a division by zero called. Look at the python documentation:\n",
    "\n",
    "https://docs.python.org/3.3/library/exceptions.html#built-in-exceptions\n",
    " <br>\n",
    " </div>"
   ]
  },
  {
   "cell_type": "code",
   "execution_count": 7,
   "metadata": {},
   "outputs": [
    {
     "name": "stdout",
     "output_type": "stream",
     "text": [
      "Error: Divsion by zero\n"
     ]
    }
   ],
   "source": [
    "\n",
    "try:\n",
    "    1/0\n",
    "except ZeroDivisionError:\n",
    "    print('Error: Divsion by zero')"
   ]
  }
 ],
 "metadata": {
  "kernelspec": {
   "display_name": "Python 3",
   "language": "python",
   "name": "python3"
  },
  "language_info": {
   "codemirror_mode": {
    "name": "ipython",
    "version": 3
   },
   "file_extension": ".py",
   "mimetype": "text/x-python",
   "name": "python",
   "nbconvert_exporter": "python",
   "pygments_lexer": "ipython3",
   "version": "3.6.5"
  }
 },
 "nbformat": 4,
 "nbformat_minor": 2
}
